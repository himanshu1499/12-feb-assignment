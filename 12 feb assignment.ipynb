{
 "cells": [
  {
   "cell_type": "markdown",
   "id": "52542326-1a32-497a-8de9-dee72d48aae1",
   "metadata": {},
   "source": [
    "# what is exception in python ? write the diff. b/w exception and syntax errors."
   ]
  },
  {
   "cell_type": "code",
   "execution_count": null,
   "id": "9096a48e-2e54-41a7-b956-d17cd4e6b24e",
   "metadata": {},
   "outputs": [],
   "source": [
    "An exception is an event, which occurs during the execution of a program that disrupts the normal flow of the program's instructions. \n",
    "In general, when a Python script encounters a situation that it cannot cope with, it raises an exception. An exception is a Python object that represents an error."
   ]
  },
  {
   "cell_type": "code",
   "execution_count": null,
   "id": "32a39db6-c05b-472e-aefb-92d1a4f14c00",
   "metadata": {},
   "outputs": [],
   "source": [
    "exception \n",
    "1.a statement or expression is syntactically correct, it may cause an error when an attempt is made to execute it.\n",
    "\n",
    "2.Errors detected during execution are called exceptions.\n",
    "\n",
    "3.Exceptions come in different types, and the type is printed as part of the message.\n",
    "\n",
    "4.The types in the example are ZeroDivisionError, NameError and TypeError."
   ]
  },
  {
   "cell_type": "code",
   "execution_count": 1,
   "id": "b28fb2cc-fa7f-47d5-ba72-2e6af7097b54",
   "metadata": {},
   "outputs": [
    {
     "ename": "ZeroDivisionError",
     "evalue": "division by zero",
     "output_type": "error",
     "traceback": [
      "\u001b[0;31m---------------------------------------------------------------------------\u001b[0m",
      "\u001b[0;31mZeroDivisionError\u001b[0m                         Traceback (most recent call last)",
      "Cell \u001b[0;32mIn [1], line 2\u001b[0m\n\u001b[1;32m      1\u001b[0m a \u001b[38;5;241m=\u001b[39m \u001b[38;5;241m10\u001b[39m\n\u001b[0;32m----> 2\u001b[0m \u001b[38;5;28msum\u001b[39m \u001b[38;5;241m=\u001b[39m \u001b[43ma\u001b[49m\u001b[38;5;241;43m/\u001b[39;49m\u001b[38;5;241;43m0\u001b[39;49m\n",
      "\u001b[0;31mZeroDivisionError\u001b[0m: division by zero"
     ]
    }
   ],
   "source": [
    "a = 10\n",
    "sum = a/0"
   ]
  },
  {
   "cell_type": "code",
   "execution_count": null,
   "id": "c2a514bc-e5ac-4903-9029-ca3fa0621e95",
   "metadata": {},
   "outputs": [],
   "source": [
    "syntax \n",
    "When the proper syntax of the language is not followed then a syntax error is thrown."
   ]
  },
  {
   "cell_type": "code",
   "execution_count": 4,
   "id": "f6718927-0b53-437b-8161-73bee55b3f87",
   "metadata": {},
   "outputs": [
    {
     "ename": "SyntaxError",
     "evalue": "expected ':' (1323401826.py, line 2)",
     "output_type": "error",
     "traceback": [
      "\u001b[0;36m  Cell \u001b[0;32mIn [4], line 2\u001b[0;36m\u001b[0m\n\u001b[0;31m    if (amount<16000)\u001b[0m\n\u001b[0m                     ^\u001b[0m\n\u001b[0;31mSyntaxError\u001b[0m\u001b[0;31m:\u001b[0m expected ':'\n"
     ]
    }
   ],
   "source": [
    "amount = 14000\n",
    "if (amount<16000)\n",
    "    print(\"you are good to go for data science\")"
   ]
  },
  {
   "cell_type": "markdown",
   "id": "355a4e79-0e2f-4b7a-81dc-7b2db5d205b6",
   "metadata": {},
   "source": [
    "# what happens when an exceptions isnot handled ? example"
   ]
  },
  {
   "cell_type": "code",
   "execution_count": null,
   "id": "cea7803e-7f3d-4e3d-81b6-8e29cfb774f2",
   "metadata": {},
   "outputs": [],
   "source": [
    "exception is a class that represents error. \n",
    "If these exceptions are not handled, our application or programs go into a crash state.\n",
    "As a developer, we definitely have the power to write code and solve problems \n",
    "but it becomes our responsibility to handle these exceptions that might occur and disrupt the code flow."
   ]
  },
  {
   "cell_type": "code",
   "execution_count": 5,
   "id": "d2b1b627-b457-4f92-a7df-06e6db6fe974",
   "metadata": {},
   "outputs": [
    {
     "name": "stdout",
     "output_type": "stream",
     "text": [
      "This is a DIVIDED BY ZERO error\n"
     ]
    }
   ],
   "source": [
    "(a,b) = (6,0)\n",
    "try:\n",
    "    g = a/b\n",
    "except ZeroDivisionError:\n",
    "    print (\"This is a DIVIDED BY ZERO error\")"
   ]
  },
  {
   "cell_type": "markdown",
   "id": "54acf4d1-8381-4ec6-ba5d-3d16c07f826d",
   "metadata": {},
   "source": [
    "# which python statements are used to catch and handle exceptions?"
   ]
  },
  {
   "cell_type": "code",
   "execution_count": null,
   "id": "4498ee3e-4569-41b3-91bf-4213468a72b1",
   "metadata": {},
   "outputs": [],
   "source": [
    "Try and except statements are used to catch and handle exceptions in Python."
   ]
  },
  {
   "cell_type": "code",
   "execution_count": 7,
   "id": "e053814f-7b25-4887-b5b0-dad63ac2b5c7",
   "metadata": {},
   "outputs": [],
   "source": [
    "try :\n",
    "    f = open(\"test5.txt\", 'w')\n",
    "    f.write(\"i want to become a data scientist\")\n",
    "except Exception as e :\n",
    "    print(\"this is my first block\")"
   ]
  },
  {
   "cell_type": "code",
   "execution_count": null,
   "id": "511548bf-2390-4d11-8a6c-9e3092141b28",
   "metadata": {},
   "outputs": [],
   "source": [
    "# explain"
   ]
  },
  {
   "cell_type": "code",
   "execution_count": null,
   "id": "67c3f240-9ae8-4c39-ad2b-a0669fa62755",
   "metadata": {},
   "outputs": [],
   "source": [
    "#try and else\n",
    "exception occurs in the try clause,\n",
    "Python skips the rest of the statements in the try clause and the except statement execute.\n",
    "\n",
    "#else\n",
    "you can also use the else clause on the try-except block which must be present after all the except clauses.\n",
    "The code enters the else block only if the try clause does not raise an exception."
   ]
  },
  {
   "cell_type": "code",
   "execution_count": 9,
   "id": "1a92238e-c4b1-4e50-9814-512628e5bb09",
   "metadata": {},
   "outputs": [
    {
     "name": "stdout",
     "output_type": "stream",
     "text": [
      "data scientist\n"
     ]
    }
   ],
   "source": [
    "try :\n",
    "    f = open(\"test5.txt\", 'w')\n",
    "    f.write(\"i want to become a data scientist\")\n",
    "except Exception as e :\n",
    "    print(\"this is my first block\" , e)\n",
    "else :\n",
    "    f.close()\n",
    "    print(\"data scientist\")"
   ]
  },
  {
   "cell_type": "code",
   "execution_count": null,
   "id": "c922f994-a825-452c-a09e-8fe14e7f1208",
   "metadata": {},
   "outputs": [],
   "source": [
    "# finally\n",
    "it provides a keyword finally, which is always executed after the try and except blocks.\n",
    "The final block always executes after normal termination of try block or after try block terminates due to some exceptions."
   ]
  },
  {
   "cell_type": "code",
   "execution_count": 10,
   "id": "2f779d84-b2b3-4f83-8bab-08cfb7559439",
   "metadata": {},
   "outputs": [
    {
     "name": "stdout",
     "output_type": "stream",
     "text": [
      "data science masters\n"
     ]
    }
   ],
   "source": [
    "try :\n",
    "    f = open(\"course.txt\", 'w')\n",
    "    f.write(\"data science\")\n",
    "finally :\n",
    "    print(\"data science masters\")"
   ]
  },
  {
   "cell_type": "code",
   "execution_count": null,
   "id": "3df21105-f1b6-4ef4-8e67-b1c77a752921",
   "metadata": {},
   "outputs": [],
   "source": [
    "# raise\n",
    "it raises an error and stops the control flow of the program.\n",
    "It is used to bring up the current exception in an exception handler so that it can be handled further up the call stack."
   ]
  },
  {
   "cell_type": "code",
   "execution_count": 11,
   "id": "25aae588-3695-4212-a7ab-c271c0ae1b01",
   "metadata": {},
   "outputs": [
    {
     "ename": "Exception",
     "evalue": "The number shouldn't be an odd integer",
     "output_type": "error",
     "traceback": [
      "\u001b[0;31m---------------------------------------------------------------------------\u001b[0m",
      "\u001b[0;31mException\u001b[0m                                 Traceback (most recent call last)",
      "Cell \u001b[0;32mIn [11], line 4\u001b[0m\n\u001b[1;32m      1\u001b[0m a \u001b[38;5;241m=\u001b[39m \u001b[38;5;241m5\u001b[39m\n\u001b[1;32m      3\u001b[0m \u001b[38;5;28;01mif\u001b[39;00m a \u001b[38;5;241m%\u001b[39m \u001b[38;5;241m2\u001b[39m \u001b[38;5;241m!=\u001b[39m \u001b[38;5;241m0\u001b[39m:\n\u001b[0;32m----> 4\u001b[0m     \u001b[38;5;28;01mraise\u001b[39;00m \u001b[38;5;167;01mException\u001b[39;00m(\u001b[38;5;124m\"\u001b[39m\u001b[38;5;124mThe number shouldn\u001b[39m\u001b[38;5;124m'\u001b[39m\u001b[38;5;124mt be an odd integer\u001b[39m\u001b[38;5;124m\"\u001b[39m)\n",
      "\u001b[0;31mException\u001b[0m: The number shouldn't be an odd integer"
     ]
    }
   ],
   "source": [
    "a = 5\n",
    "  \n",
    "if a % 2 != 0:\n",
    "    raise Exception(\"The number shouldn't be an odd integer\")"
   ]
  },
  {
   "cell_type": "code",
   "execution_count": null,
   "id": "10ad6c50-9e4c-4443-8e43-7cefb09a69bd",
   "metadata": {},
   "outputs": [],
   "source": [
    "# what are the customs exceptions in python ? why do we need customs exceptions?"
   ]
  },
  {
   "cell_type": "code",
   "execution_count": null,
   "id": "1b97d126-03ce-4a20-897d-f74de7fc53e3",
   "metadata": {},
   "outputs": [],
   "source": [
    "In Python, users can define custom exceptions by creating a new class. This exception class has to be derived, either directly or indirectly, from the built-in Exception class.\n",
    "Most of the built-in exceptions are also derived from this class."
   ]
  },
  {
   "cell_type": "code",
   "execution_count": null,
   "id": "a8b2c0e6-6b00-487e-8938-08c9c398332f",
   "metadata": {},
   "outputs": [],
   "source": [
    "The custom exception hierarchy allows you to catch exceptions at multiple levels, like the standard exception classes.\n",
    "Python custom exception example Suppose you need to develop a program that converts a temperature from Fahrenheit to Celsius"
   ]
  },
  {
   "cell_type": "code",
   "execution_count": 14,
   "id": "7f1e38ee-720c-4229-8a6f-868f0852d622",
   "metadata": {},
   "outputs": [
    {
     "name": "stdout",
     "output_type": "stream",
     "text": [
      "A New Exception occurred:  6\n"
     ]
    }
   ],
   "source": [
    "class number(Exception):\n",
    " \n",
    "    \n",
    "    def __init__(self, value):\n",
    "        self.value = value\n",
    " \n",
    "   \n",
    "    def __str__(self):\n",
    "        return(repr(self.value))\n",
    " \n",
    " \n",
    "try:\n",
    "    raise(number(3*2))\n",
    " \n",
    "\n",
    "except number as error:\n",
    "    print('A New Exception occurred: ', error.value)"
   ]
  },
  {
   "cell_type": "code",
   "execution_count": null,
   "id": "1b2a7138-9ed9-4bcd-911b-fdad4b1c1187",
   "metadata": {},
   "outputs": [],
   "source": [
    "# create a custom exception class.use this class to handle an exception."
   ]
  },
  {
   "cell_type": "code",
   "execution_count": 17,
   "id": "0218015e-14dd-4d4a-996f-805999f12904",
   "metadata": {},
   "outputs": [
    {
     "name": "stdin",
     "output_type": "stream",
     "text": [
      "Enter a number:  78\n"
     ]
    }
   ],
   "source": [
    "class Error(Exception):\n",
    "    \"\"\"Base class for other exceptions\"\"\"\n",
    "    pass\n",
    " \n",
    "class zerodivision(Error):\n",
    "    \"\"\"Raised when the input value is zero\"\"\"\n",
    "    pass\n",
    " \n",
    "try:\n",
    "    i_num = int(input(\"Enter a number: \"))\n",
    "    if i_num == 0:\n",
    "        raise zerodivision\n",
    "except zerodivision:\n",
    "    print(\"Input value is zero, try again!\")\n",
    "    print()"
   ]
  },
  {
   "cell_type": "code",
   "execution_count": null,
   "id": "099065d4-045e-403e-9dfa-a4afb74ee4d9",
   "metadata": {},
   "outputs": [],
   "source": []
  }
 ],
 "metadata": {
  "kernelspec": {
   "display_name": "Python 3 (ipykernel)",
   "language": "python",
   "name": "python3"
  },
  "language_info": {
   "codemirror_mode": {
    "name": "ipython",
    "version": 3
   },
   "file_extension": ".py",
   "mimetype": "text/x-python",
   "name": "python",
   "nbconvert_exporter": "python",
   "pygments_lexer": "ipython3",
   "version": "3.10.6"
  }
 },
 "nbformat": 4,
 "nbformat_minor": 5
}
